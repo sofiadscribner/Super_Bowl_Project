{
 "cells": [
  {
   "cell_type": "code",
   "execution_count": 1,
   "metadata": {},
   "outputs": [],
   "source": [
    "import numpy as np\n",
    "import pandas as pd\n",
    "import plotly.express as px"
   ]
  },
  {
   "cell_type": "code",
   "execution_count": 3,
   "metadata": {},
   "outputs": [],
   "source": [
    "# assign data to variables\n",
    "\n",
    "wikipedia = 'wikipedia_ad_list.csv'\n",
    "celebrities = 'celebrities.csv'\n",
    "youtube = 'youtube_data.csv'\n",
    "google = 'google_data.csv'\n",
    "polls = 'you_gov_and_harris.csv'"
   ]
  },
  {
   "cell_type": "code",
   "execution_count": 9,
   "metadata": {},
   "outputs": [],
   "source": [
    "# combine datasets\n",
    "\n",
    "# List of file names\n",
    "files = [wikipedia, celebrities, youtube, google, polls]\n",
    "\n",
    "# Read and concatenate all files\n",
    "sb_df = pd.concat([pd.read_csv(file) for file in files], ignore_index=False, axis = 1)\n",
    "\n",
    "# looks perfect! save locally\n",
    "sb_df.to_csv('sb_data.csv', index=False)\n"
   ]
  }
 ],
 "metadata": {
  "kernelspec": {
   "display_name": "sofs_env",
   "language": "python",
   "name": "python3"
  },
  "language_info": {
   "codemirror_mode": {
    "name": "ipython",
    "version": 3
   },
   "file_extension": ".py",
   "mimetype": "text/x-python",
   "name": "python",
   "nbconvert_exporter": "python",
   "pygments_lexer": "ipython3",
   "version": "3.12.8"
  }
 },
 "nbformat": 4,
 "nbformat_minor": 2
}
