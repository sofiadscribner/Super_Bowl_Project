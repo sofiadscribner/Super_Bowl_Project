{
 "cells": [
  {
   "cell_type": "code",
   "execution_count": 29,
   "metadata": {},
   "outputs": [],
   "source": [
    "import pandas as pd\n",
    "import numpy as np"
   ]
  },
  {
   "cell_type": "code",
   "execution_count": 30,
   "metadata": {},
   "outputs": [],
   "source": [
    "csvs = ['cerave_google.csv', 'dove_google.csv', 'elf_google.csv', 'bmw_google.csv',\n",
    "        'volkswagen_google.csv', 'toyota_tacoma_google.csv',\n",
    "        'kia_ev9_google.csv', 'kawasaki_ridge_google.csv', 'wicked_google.csv', 'doritos_google.csv', \n",
    "        'dunkin_google.csv', 'drumstick_google.csv', 'oreo_google.csv', 'lindt_google.csv',\n",
    "        'reeses_google.csv', 'mandms_google.csv', 'pringles_google.csv', 'hellmanns_google.csv',\n",
    "        'nerds_google.csv', 'state_farm_google.csv', 'fanduel_google.csv', 'betmgm_google.csv', \n",
    "        'bass_pro_shops_google.csv', 'pfizer_google.csv', 'popeyes_google.csv', 'skechers_google.csv', \n",
    "        'starry_google.csv', 'mountain_dew_google.csv', 'poppi_google.csv', 'bud_light_google.csv', \n",
    "        'coors_light_google.csv', 'budwieser_google.csv', 'michelob_ultra_google.csv', 'the_boys_google.csv', \n",
    "        'nfl_sunday_ticket_google.csv', 'paramount_plus_google.csv', 'paramount_plus_google.csv', \n",
    "        'shogun_google.csv', 'tmobile_google.csv', 'tmobile_google.csv', 'verizon_google.csv', 'pixel8_google.csv',\n",
    "        'squarespace_google.csv', 'etsy_google.csv', 'apartments_dot_com_google.csv', 'doordash_google.csv',\n",
    "        'disney_plus_google.csv', 'snapchat_google.csv', 'homes_dot_com_google.csv', 'homes_dot_com_google.csv', \n",
    "        'homes_dot_com_google.csv', 'e_trade_google.csv', 'pluto_tv_google.csv', 'crowdstrike_google.csv', \n",
    "        'turbo_tax_google.csv', 'uber_eats_google.csv', 'booking_dot_com_google.csv', 'microsoft_copilot_google.csv', \n",
    "        'nfl_google.csv', 'antisemitism_google.csv', 'he_gets_us_google.csv', 'he_gets_us_google.csv', 'rfkjr_google.csv'  ]"
   ]
  },
  {
   "cell_type": "code",
   "execution_count": null,
   "metadata": {},
   "outputs": [],
   "source": [
    "super_bowl_date = \"2024-02-11\"\n",
    "interest_levels = []\n",
    "\n",
    "# loop through each csv, saving the data of interest\n",
    "\n",
    "for csv in csvs:\n",
    "    df = pd.read_csv(csv, index_col=0)\n",
    "    row_idx = df.index.get_loc(super_bowl_date)\n",
    "    # find the relative interest of the company or product on the week of the super bowl\n",
    "    next_value = int(df.iloc[row_idx, 0])\n",
    "    # add a column indicating whether the super bowl ad corresponds with the highest search term popularity\n",
    "    is_100 = next_value == 100\n",
    "    interest_levels.append({\"File\": csv, \"Next_Value\": next_value, \"Peaked\" : is_100})\n",
    "\n",
    "# convert list to dataframe\n",
    "\n",
    "google_df = pd.DataFrame(interest_levels)\n",
    "\n",
    "# looks great! save locally\n",
    "\n",
    "#google_df.to_csv('google_data.csv', index = False)\n"
   ]
  }
 ],
 "metadata": {
  "kernelspec": {
   "display_name": "sofs_env",
   "language": "python",
   "name": "python3"
  },
  "language_info": {
   "codemirror_mode": {
    "name": "ipython",
    "version": 3
   },
   "file_extension": ".py",
   "mimetype": "text/x-python",
   "name": "python",
   "nbconvert_exporter": "python",
   "pygments_lexer": "ipython3",
   "version": "3.12.8"
  }
 },
 "nbformat": 4,
 "nbformat_minor": 2
}
